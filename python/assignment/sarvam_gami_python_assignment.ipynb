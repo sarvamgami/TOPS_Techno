{
  "cells": [
    {
      "cell_type": "markdown",
      "metadata": {
        "id": "q61zIYJaGurl"
      },
      "source": [
        "1) What are the types of Applications?\n",
        "\n",
        "ans:\n",
        "     Web Applications,\n",
        "     Game Development,\n",
        "     Data Science and Machine Learning,\n",
        "     Image Processing,\n",
        "     Web Scraping,\n",
        "     Software Development,\n",
        "     Desktop GUI Applications,\n",
        "     Enterprise Applications."
      ]
    },
    {
      "cell_type": "markdown",
      "metadata": {
        "id": "ugqebyZFHvOk"
      },
      "source": [
        "2) What is programing?\n",
        "\n",
        "ans:\n",
        "\n",
        "Programming is the process of writing and testing code to instruct a computer or software program on how to perform a specific action."
      ]
    },
    {
      "cell_type": "markdown",
      "metadata": {
        "id": "62N5tkEzInUo"
      },
      "source": [
        "3) What is Python?\n",
        "\n",
        "ans:\n",
        "\n",
        "Python is a high-level, object-oriented, interpreted programming language that's often used to build websites and software, automate tasks, and analyze data.\n"
      ]
    },
    {
      "cell_type": "code",
      "execution_count": 6,
      "metadata": {
        "colab": {
          "base_uri": "https://localhost:8080/"
        },
        "id": "fnMFSh7sKYNg",
        "outputId": "704340e5-9c91-49aa-e978-0bf53166734f"
      },
      "outputs": [
        {
          "output_type": "stream",
          "name": "stdout",
          "text": [
            "enter a number:0\n",
            "zero\n"
          ]
        }
      ],
      "source": [
        "#4) Write a Python program to check if a number is positive, negative or zero.\n",
        "num = int(input(\"enter a number:\"))\n",
        "if num < 0:\n",
        "    print(\"negative number\")\n",
        "elif num > 0:\n",
        "    print(\"positive number\")\n",
        "else:\n",
        "    print(\"zero\")\n",
        "\n"
      ]
    },
    {
      "cell_type": "code",
      "execution_count": 7,
      "metadata": {
        "colab": {
          "base_uri": "https://localhost:8080/"
        },
        "id": "ybk2fZNZMMMj",
        "outputId": "ef616111-45e9-4d94-c0b9-af3e7b0506b3"
      },
      "outputs": [
        {
          "output_type": "stream",
          "name": "stdout",
          "text": [
            "enter a number :3\n",
            "6\n"
          ]
        }
      ],
      "source": [
        " #5)Write a Python program to get the Factorial number of given numbers.\n",
        "num = int(input(\"enter a number :\"))\n",
        "fac = 1\n",
        "for i in range(1,num+1):\n",
        "    fac = fac * i\n",
        "print(fac)\n"
      ]
    },
    {
      "cell_type": "code",
      "execution_count": 10,
      "metadata": {
        "colab": {
          "base_uri": "https://localhost:8080/"
        },
        "id": "zcUWkbBaPgUK",
        "outputId": "76bcdfed-7f8b-493f-f577-ff793e3bdc99"
      },
      "outputs": [
        {
          "output_type": "stream",
          "name": "stdout",
          "text": [
            "enter a number:6\n",
            "3\n",
            "5\n",
            "8\n",
            "13\n",
            "21\n"
          ]
        }
      ],
      "source": [
        "#6)Write a Python program to get the Fibonacci series of given range.\n",
        "num = int(input(\"enter a number:\"))\n",
        "a = 1\n",
        "b = 2\n",
        "for i in range(1,num):\n",
        "    temp = a + b\n",
        "    a = b\n",
        "    b = temp\n",
        "    print(temp)"
      ]
    },
    {
      "cell_type": "markdown",
      "metadata": {
        "id": "LOLL4cZHQu03"
      },
      "source": [
        "7) How memory is managed in Python?\n",
        "\n",
        "ans:\n",
        "\n",
        "Python memory management is the process of allocating and dealing with memory so that your programs can run efficiently. One advantage of Python, compared to other programming languages, is that it can perform memory management tasks automatically.\n",
        "\n",
        "You can classify memory management in Python in one of two ways: dynamic allocation or static allocation. Dynamic allocation occurs as the program is running. This means that as the program operates, it can dynamically determine where to allocate memory while reusing and releasing it. Static memory allocation happens before the running of a program, predetermining the amount and distribution of the memory, and without the ability to reuse memory."
      ]
    },
    {
      "cell_type": "markdown",
      "metadata": {
        "id": "fo4CUvVwSxqB"
      },
      "source": [
        "8) What is the purpose continuing statement in python?\n",
        "\n",
        "ans:\n",
        "\n",
        "The continue statement in Python is used to skip the remaining code inside a loop for the current iteration only.\n"
      ]
    },
    {
      "cell_type": "code",
      "execution_count": 12,
      "metadata": {
        "colab": {
          "base_uri": "https://localhost:8080/"
        },
        "id": "f8ZjKh9cYATH",
        "outputId": "d67d8619-72ff-4755-c1df-24932108991d"
      },
      "outputs": [
        {
          "output_type": "stream",
          "name": "stdout",
          "text": [
            "Enter first number: 2\n",
            "Enter second number: 3\n",
            "Before swapping:\n",
            "num1 = 2\n",
            "num2 = 3\n",
            "After swapping:\n",
            "num1 = 3\n",
            "num2 = 2\n",
            "Enter first number: 2\n",
            "Enter second number: 3\n",
            "Before swapping:\n",
            "num1 = 2\n",
            "num2 = 3\n",
            "After swapping:\n",
            "num1 = 3\n",
            "num2 = 2\n"
          ]
        }
      ],
      "source": [
        "#9) Write python program that swap two number with temp variable and without temp variable.\n",
        "# Swap two numbers using a temporary variable\n",
        "\n",
        "num1 = int(input(\"Enter first number: \"))\n",
        "num2 = int(input(\"Enter second number: \"))\n",
        "\n",
        "print(\"Before swapping:\")\n",
        "print(\"num1 =\", num1)\n",
        "print(\"num2 =\", num2)\n",
        "\n",
        "temp = num1\n",
        "num1 = num2\n",
        "num2 = temp\n",
        "\n",
        "print(\"After swapping:\")\n",
        "print(\"num1 =\", num1)\n",
        "print(\"num2 =\", num2)\n",
        "\n",
        "# Swap two numbers without a temporary variable\n",
        "\n",
        "num1 = int(input(\"Enter first number: \"))\n",
        "num2 = int(input(\"Enter second number: \"))\n",
        "\n",
        "print(\"Before swapping:\")\n",
        "print(\"num1 =\", num1)\n",
        "print(\"num2 =\", num2)\n",
        "\n",
        "num1, num2 = num2, num1\n",
        "\n",
        "print(\"After swapping:\")\n",
        "print(\"num1 =\", num1)\n",
        "print(\"num2 =\", num2)"
      ]
    },
    {
      "cell_type": "code",
      "execution_count": 14,
      "metadata": {
        "colab": {
          "base_uri": "https://localhost:8080/"
        },
        "id": "RA7JcFf0YgEx",
        "outputId": "d34011b8-557e-45f6-d169-8d305fbb49d7"
      },
      "outputs": [
        {
          "output_type": "stream",
          "name": "stdout",
          "text": [
            "enter a number:2\n",
            "2 number is even\n"
          ]
        }
      ],
      "source": [
        "#10) Write a Python program to find whether a given number is even or odd, print out an appropriate message to the user.\n",
        "num = int(input(\"enter a number:\"))\n",
        "if num%2==0:\n",
        "  print(num,\"number is even\")\n",
        "else:\n",
        " print(num,\"number is odd\")"
      ]
    },
    {
      "cell_type": "code",
      "execution_count": null,
      "metadata": {
        "colab": {
          "base_uri": "https://localhost:8080/"
        },
        "id": "gNyWROOle_dE",
        "outputId": "c533ac75-3677-4ccb-81bd-21eb3957e12a"
      },
      "outputs": [
        {
          "name": "stdout",
          "output_type": "stream",
          "text": [
            "enter a character:i\n",
            "vowel\n"
          ]
        }
      ],
      "source": [
        "#11) Write a Python program to test whether a passed letter is a vowel or not.\n",
        "string = str(input(\"enter a character:\"))\n",
        "if string in ('a','e','i','o','u'):\n",
        "    print(\"vowel\")\n",
        "else:\n",
        "    print(\"not vowel\")\n",
        "\n"
      ]
    },
    {
      "cell_type": "code",
      "execution_count": null,
      "metadata": {
        "colab": {
          "base_uri": "https://localhost:8080/"
        },
        "id": "5lG7DtE3oGHC",
        "outputId": "63fc688a-ab44-4e27-dcd2-ec582f7edc2e"
      },
      "outputs": [
        {
          "name": "stdout",
          "output_type": "stream",
          "text": [
            "enter a number-5\n",
            "enter a number5\n",
            "enter a number0\n",
            "0\n"
          ]
        }
      ],
      "source": [
        "#12) Write a Python program to sum of three given integers. However, if two values are equal sum will be zero.\n",
        "num1 = int(input(\"enter a number\"))\n",
        "num2 = int(input(\"enter a number\"))\n",
        "num3 = int(input(\"enter a number\"))\n",
        "if num1 == num2 or num2 == num3 or num1 == num3:\n",
        "    sum = 0\n",
        "else:\n",
        "    sum = num1 + num2 + num3\n",
        "print(sum)"
      ]
    },
    {
      "cell_type": "code",
      "execution_count": null,
      "metadata": {
        "colab": {
          "base_uri": "https://localhost:8080/"
        },
        "id": "-R5MWG7vp4lg",
        "outputId": "c19362c0-024d-48df-c11a-f0c094cf9873"
      },
      "outputs": [
        {
          "name": "stdout",
          "output_type": "stream",
          "text": [
            "enter a number:5\n",
            "enter a number:5\n",
            "true\n"
          ]
        }
      ],
      "source": [
        "#13) Write a Python program that will return true if the two given integer values are equal or their sum or difference is 5.\n",
        "num1 = int(input(\"enter a number:\"))\n",
        "num2 = int(input(\"enter a number:\"))\n",
        "if num1 == num2 or num1 + num2 == 5 or num1 - num2 == 5 or num2 - num1 == 5:\n",
        "  print(\"true\")\n",
        "else:\n",
        "  print(\"false\")"
      ]
    },
    {
      "cell_type": "code",
      "execution_count": null,
      "metadata": {
        "colab": {
          "base_uri": "https://localhost:8080/"
        },
        "id": "1L_MseGmq-mc",
        "outputId": "9bf55324-5b6b-405d-bff5-1bf0b488ca94"
      },
      "outputs": [
        {
          "name": "stdout",
          "output_type": "stream",
          "text": [
            "enter a number:5\n",
            "15\n"
          ]
        }
      ],
      "source": [
        "#14)Write a python program to sum of the first n positive integers.\n",
        "num = int(input(\"enter a number:\"))\n",
        "sum = 0\n",
        "for i in range(1,num+1):\n",
        "    sum = sum + i\n",
        "print(sum)\n"
      ]
    },
    {
      "cell_type": "code",
      "execution_count": null,
      "metadata": {
        "colab": {
          "base_uri": "https://localhost:8080/"
        },
        "id": "V8sFl6BWr8tw",
        "outputId": "d7171f10-effc-4b4d-eb0a-dc10d75c7d3a"
      },
      "outputs": [
        {
          "name": "stdout",
          "output_type": "stream",
          "text": [
            "enter a string:rutvi\n",
            "5\n"
          ]
        }
      ],
      "source": [
        "#15)Write a Python program to calculate the length of a string.\n",
        "string = str(input(\"enter a string:\"))\n",
        "length = len(string)\n",
        "print(length)"
      ]
    },
    {
      "cell_type": "code",
      "execution_count": null,
      "metadata": {
        "colab": {
          "base_uri": "https://localhost:8080/"
        },
        "id": "qEF378GXvGhR",
        "outputId": "8f4d35d2-41b2-4444-f5b2-015f71c995cf"
      },
      "outputs": [
        {
          "name": "stdout",
          "output_type": "stream",
          "text": [
            "enter a string:etuu\n",
            "{'u': 1}\n"
          ]
        }
      ],
      "source": [
        "#16) Write a Python program to count the number of characters (character frequency) in a string\n",
        "string = str(input(\"enter a string:\"))\n",
        "freq = {}\n",
        "for char in string:\n",
        "    if char in freq:\n",
        "        freq[char]+=1\n",
        "else:\n",
        "            freq[char]=1\n",
        "print(freq)\n",
        "\n"
      ]
    },
    {
      "cell_type": "markdown",
      "metadata": {
        "id": "1ht6jmz3yHUW"
      },
      "source": [
        "17) What are negative indexes and why are they used?\n",
        "\n",
        "ans:\n",
        "\n",
        "Negative indexing allows you to access elements of a sequence from the end, using negative numbers as indexes. This can be useful for getting the last few elements of a sequence, reversing a sequence, or performing other operations that require accessing elements from the end.\n"
      ]
    },
    {
      "cell_type": "code",
      "execution_count": null,
      "metadata": {
        "colab": {
          "base_uri": "https://localhost:8080/"
        },
        "id": "UUX7ViWjzraD",
        "outputId": "7d0fcff5-5aab-4fe6-e778-a626ad72aa5b"
      },
      "outputs": [
        {
          "name": "stdout",
          "output_type": "stream",
          "text": [
            "enter a string:rutvi\n",
            "enter a sub_sting:rutva\n",
            "0\n"
          ]
        }
      ],
      "source": [
        "#18)Write a Python program to count occurrences of a substring in a string.\n",
        "string = str(input(\"enter a string:\"))\n",
        "sub_string = str(input(\"enter a sub_sting:\"))\n",
        "count = string.count(sub_string)\n",
        "print(count)"
      ]
    },
    {
      "cell_type": "code",
      "execution_count": null,
      "metadata": {
        "colab": {
          "base_uri": "https://localhost:8080/"
        },
        "id": "2gJEc2q20Ow8",
        "outputId": "6dfe206c-96f6-4044-b3d4-fe83894315f2"
      },
      "outputs": [
        {
          "name": "stdout",
          "output_type": "stream",
          "text": [
            "enter a string:rrtvu rrtvu rrtviu\n",
            "{'rrtvu': 2, 'rrtviu': 1}\n"
          ]
        }
      ],
      "source": [
        "#19) Write a Python program to count the occurrences of each word in a given sentence\n",
        "string = str(input(\"enter a string:\"))\n",
        "words = string.split()\n",
        "word_count = {}\n",
        "for word in words:\n",
        "    if word in word_count:\n",
        "        word_count[word] += 1\n",
        "    else:\n",
        "        word_count[word] = 1\n",
        "print(word_count)"
      ]
    },
    {
      "cell_type": "code",
      "execution_count": null,
      "metadata": {
        "colab": {
          "base_uri": "https://localhost:8080/"
        },
        "id": "Kjr54KKP1VOd",
        "outputId": "68fe0ce1-b9ae-49d4-c0eb-f893219750dd"
      },
      "outputs": [
        {
          "name": "stdout",
          "output_type": "stream",
          "text": [
            "enter a string:rutvi\n",
            "enter a string:retoi\n",
            "utvir etoir\n"
          ]
        }
      ],
      "source": [
        "#20) Write a Python program to get a single string from two given strings,separated by a space and swap the first two characters of each string.\n",
        "string = str(input(\"enter a string:\"))\n",
        "string1 = str(input(\"enter a string:\"))\n",
        "new_string = string[1:] + string[0] + \" \" + string1[1:] + string1[0]\n",
        "print(new_string)\n",
        "\n"
      ]
    },
    {
      "cell_type": "code",
      "execution_count": null,
      "metadata": {
        "colab": {
          "base_uri": "https://localhost:8080/"
        },
        "id": "B0t83r6f5yiN",
        "outputId": "70f705e2-eb1f-40b3-f1f4-43548c3db84d"
      },
      "outputs": [
        {
          "name": "stdout",
          "output_type": "stream",
          "text": [
            "enter a string:toing\n",
            "toingly\n"
          ]
        }
      ],
      "source": [
        "#21) Write a Python program to add 'in' at the end of a given string (length should be at least 3). If the given string already ends with 'ing' then add 'ly' instead if the string length of the given string is less than 3,leave it unchanged.\n",
        "string = str(input(\"enter a string:\"))\n",
        "if len(string) > 2:\n",
        "    if string[-3:] == \"ing\":\n",
        "        new_string = string + \"ly\"\n",
        "    else:\n",
        "        new_string = string + \"ing\"\n",
        "else:\n",
        "    new_string = string\n",
        "print(new_string)\n",
        "\n"
      ]
    },
    {
      "cell_type": "code",
      "execution_count": null,
      "metadata": {
        "colab": {
          "base_uri": "https://localhost:8080/"
        },
        "id": "x0dM98cR8ym6",
        "outputId": "a74c5c9e-c4d2-4078-c565-05153da0ec1c"
      },
      "outputs": [
        {
          "name": "stdout",
          "output_type": "stream",
          "text": [
            "enter a string:rutu\n",
            "utur\n"
          ]
        }
      ],
      "source": [
        "#22) Write a Python function to reverses a string if its length is a multiple of 4.\n",
        "string = str(input(\"enter a string:\"))\n",
        "if len(string)%4==0:\n",
        " print(string[::-1])\n",
        "\n",
        "else:\n",
        "  print(\"can't divided by 4\")"
      ]
    },
    {
      "cell_type": "code",
      "execution_count": null,
      "metadata": {
        "colab": {
          "base_uri": "https://localhost:8080/"
        },
        "id": "t5dug6RcSCI8",
        "outputId": "31ded91e-c77a-4a63-9318-b957d85808f6"
      },
      "outputs": [
        {
          "name": "stdout",
          "output_type": "stream",
          "text": [
            "enter a string:rutvi\n",
            "ruvi\n"
          ]
        }
      ],
      "source": [
        "#23) Write a Python program to get a string made of the first 2 and the last 2 chars from a given a string. If the string length is less than 2, return instead of the empty string.\n",
        "string = str(input(\"enter a string:\"))\n",
        "if len(string)<2:\n",
        "  print(\"empty string\")\n",
        "else:\n",
        "  print(string[:2]+string[-2:])"
      ]
    },
    {
      "cell_type": "code",
      "execution_count": null,
      "metadata": {
        "colab": {
          "base_uri": "https://localhost:8080/"
        },
        "id": "HhjjZZxgT5vO",
        "outputId": "54144725-6e38-4efb-ba26-fb591173ad64"
      },
      "outputs": [
        {
          "name": "stdout",
          "output_type": "stream",
          "text": [
            "enter a string:rut\n",
            "enter a new string:sdn\n",
            "rsdnut\n"
          ]
        }
      ],
      "source": [
        "#24)Write a Python function to insert a string in the middle of a string.\n",
        "string = str(input(\"enter a string:\"))\n",
        "news = str(input(\"enter a new string:\"))\n",
        "\n",
        "middle = len(string)//2\n",
        "print(string[:middle]+news+string[middle:])"
      ]
    },
    {
      "cell_type": "markdown",
      "metadata": {
        "id": "d7DaFRmFWJ6v"
      },
      "source": [
        "25) What is List? How will you reverse a list?\n",
        "\n",
        "ans:\n",
        "\n",
        "In Python, a list is a collection of items that can be of any data type, including strings, integers, floats, and other lists. Lists are denoted by square brackets [ ] and are mutable, meaning they can be modified after creation.\n",
        "\n",
        "There are several ways to reverse a list in Python:\n",
        "\n",
        "**Method 1: Using the reverse() method:**\n",
        "\n",
        "The reverse() method reverses the list in place, meaning it modifies the original list.\n",
        "\n",
        "**Method 2: Using slicing with a step of -1:**\n",
        "\n",
        "This method creates a new list with the elements in reverse order.\n",
        "\n",
        "**Method 3: Using the reversed() function:**\n",
        "\n",
        "The reversed() function returns a reverse iterator, which can be converted to a list using the list() function.\n",
        "\n",
        "All three methods will reverse the list, but the reverse() method is the most efficient since it modifies the original list in place."
      ]
    },
    {
      "cell_type": "code",
      "execution_count": null,
      "metadata": {
        "colab": {
          "base_uri": "https://localhost:8080/"
        },
        "id": "_b2BhI_JX6gg",
        "outputId": "91d494aa-2f20-4e91-d885-d2bc09834fdf"
      },
      "outputs": [
        {
          "name": "stdout",
          "output_type": "stream",
          "text": [
            "[2, 3, 4, 5, 6]\n"
          ]
        }
      ],
      "source": [
        "#26)How will you remove last object from a list?\n",
        "my_list=[2,3,4,5,6,9]\n",
        "my_list.pop()\n",
        "print(my_list)"
      ]
    },
    {
      "cell_type": "code",
      "execution_count": null,
      "metadata": {
        "colab": {
          "base_uri": "https://localhost:8080/"
        },
        "id": "RReoaNraYy3m",
        "outputId": "02483b10-dbde-4791-e8b9-3d1b7fb38b51"
      },
      "outputs": [
        {
          "name": "stdout",
          "output_type": "stream",
          "text": [
            "25\n"
          ]
        }
      ],
      "source": [
        "#27)Suppose list1 is [2, 33, 222, 14, and 25], what is list1 [-1]?\n",
        "list1 = [2,33,222,14,25]\n",
        "print(list1[-1])\n"
      ]
    },
    {
      "cell_type": "markdown",
      "metadata": {
        "id": "tEjQiTPua1ya"
      },
      "source": [
        "28) Differentiate between append () and extend () methods?\n",
        "\n",
        "![Screenshot 2024-07-22 223724.png](data:image/png;base64,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)"
      ]
    },
    {
      "cell_type": "code",
      "execution_count": null,
      "metadata": {
        "colab": {
          "base_uri": "https://localhost:8080/"
        },
        "id": "t87c_fZebC9R",
        "outputId": "9024f9e9-b342-49b3-fc47-dbde9d563dac"
      },
      "outputs": [
        {
          "name": "stdout",
          "output_type": "stream",
          "text": [
            "6\n",
            "2\n",
            "20\n"
          ]
        }
      ],
      "source": [
        "#29) Write a Python function to get the largest number, smallest num and sum of all from a list.\n",
        "my_list= [2,3,4,5,6]\n",
        "print(max(my_list))\n",
        "print(min(my_list))\n",
        "print(sum(my_list))"
      ]
    },
    {
      "cell_type": "markdown",
      "metadata": {
        "id": "R3MFqL4lcX5F"
      },
      "source": [
        "30) How will you compare two lists?\n",
        "\n",
        "ans:\n",
        "\n",
        "1) sort() method or the sorted() function with the == operator\n",
        "\n",
        "2) set() function with the == operator\n",
        "\n",
        "3) reduce() and map() functions with the == operator\n",
        "\n",
        "4) collection.Counter() class with the == operator\n",
        "\n",
        "5) list comprehension\n",
        "\n",
        "\n",
        "\n"
      ]
    },
    {
      "cell_type": "code",
      "execution_count": null,
      "metadata": {
        "colab": {
          "base_uri": "https://localhost:8080/"
        },
        "id": "CbwQr7j6dC1j",
        "outputId": "021cec72-30a5-4e45-808d-204e3d60503e"
      },
      "outputs": [
        {
          "name": "stdout",
          "output_type": "stream",
          "text": [
            "13\n"
          ]
        }
      ],
      "source": [
        "#31) Write a Python program to count the number of strings where the string length is 2 or more and the first and last character are same from a given list of strings.\n",
        "str_list = [\"anaaa\",\"apaa\",\"mew\",\"amma\"]\n",
        "def count_matching_strings(str_list):\n",
        "  count = 0\n",
        "for string in str_list:\n",
        "  if len(string)>=2 and string[0]==string[-1]:\n",
        "   count+=1\n",
        "\n",
        "print(count)\n",
        "\n",
        "\n"
      ]
    },
    {
      "cell_type": "code",
      "execution_count": null,
      "metadata": {
        "colab": {
          "base_uri": "https://localhost:8080/"
        },
        "id": "w3pYInv9fJwZ",
        "outputId": "d5307d56-e4e9-4136-bada-b61f7760f575"
      },
      "outputs": [
        {
          "name": "stdout",
          "output_type": "stream",
          "text": [
            "{2, 3, 4, 5, 6}\n"
          ]
        }
      ],
      "source": [
        "#32)Write a Python program to remove duplicates from a list.\n",
        "my_list = [2,4,5,6,3,2,6]\n",
        "print(set(my_list))\n"
      ]
    },
    {
      "cell_type": "code",
      "execution_count": null,
      "metadata": {
        "colab": {
          "base_uri": "https://localhost:8080/"
        },
        "id": "_StLlcCbkp4v",
        "outputId": "fd20f55a-b7bd-490f-fec1-a62f84fbba6f"
      },
      "outputs": [
        {
          "name": "stdout",
          "output_type": "stream",
          "text": [
            "list is not empty\n"
          ]
        }
      ],
      "source": [
        "#33)Write a Python program to check a list is empty or not.\n",
        "my_list = [2,4,5,6,8]\n",
        "if len(my_list)==0:\n",
        "  print(\"list is empty\")\n",
        "else:\n",
        "  print(\"list is not empty\")\n"
      ]
    },
    {
      "cell_type": "code",
      "execution_count": null,
      "metadata": {
        "id": "b5zgrVahlSxd"
      },
      "outputs": [],
      "source": [
        "#34) Write a Python function that takes two lists and returns true if they have at least one common member\n",
        "def common_member(list1, list2):\n",
        "    set1 = set(list1)\n",
        "    set2 = set(list2)\n",
        "    if len(set1.intersection(set2)) > 0:\n",
        "        return True\n",
        "    else:\n",
        "        return False"
      ]
    },
    {
      "cell_type": "code",
      "execution_count": null,
      "metadata": {
        "colab": {
          "base_uri": "https://localhost:8080/"
        },
        "id": "V8YzmpbymMqu",
        "outputId": "5deb2d50-ae09-487a-eaf7-151ef216d729"
      },
      "outputs": [
        {
          "name": "stdout",
          "output_type": "stream",
          "text": [
            "{4, 5}\n"
          ]
        }
      ],
      "source": [
        "set1 = {1,2,3,4,5}\n",
        "set2 = {4,5,6,7,8}\n",
        "print(set1.intersection(set2))"
      ]
    },
    {
      "cell_type": "code",
      "execution_count": null,
      "metadata": {
        "colab": {
          "base_uri": "https://localhost:8080/"
        },
        "id": "dgUfM4AfmX8p",
        "outputId": "2f55fd99-1c1d-42b6-9da3-2f195992be2c"
      },
      "outputs": [
        {
          "name": "stdout",
          "output_type": "stream",
          "text": [
            "[1, 4, 9, 16, 25]\n",
            "[676, 729, 784, 841, 900]\n"
          ]
        }
      ],
      "source": [
        "#35) Write a Python program to generate and print a list of first and last 5 elements where the values are square of numbers between 1 and 30.\n",
        "def print_squares():\n",
        "  squares = [i**2 for i in range(1, 31)]\n",
        "  print(squares[:5])\n",
        "  print(squares[-5:])\n",
        "\n",
        "print_squares()"
      ]
    },
    {
      "cell_type": "code",
      "execution_count": 5,
      "metadata": {
        "colab": {
          "base_uri": "https://localhost:8080/"
        },
        "id": "Gu9uvsKvnXzu",
        "outputId": "1c8025e4-6632-45eb-dc52-c125954cbf27"
      },
      "outputs": [
        {
          "output_type": "stream",
          "name": "stdout",
          "text": [
            "[3, 4, 5, 6, 6, 8]\n"
          ]
        },
        {
          "output_type": "execute_result",
          "data": {
            "text/plain": [
              "[3, 4, 5, 6, 8]"
            ]
          },
          "metadata": {},
          "execution_count": 5
        }
      ],
      "source": [
        "#36) Write a Python function that takes a list and returns a new list with unique elements of the first list.\n",
        "def unique_elements(input_list):\n",
        "  return list(set(input_list))\n",
        "input_list = [3,4,5,6,6,8]\n",
        "print(input_list)\n",
        "unique_elements(input_list)"
      ]
    },
    {
      "cell_type": "code",
      "execution_count": null,
      "metadata": {
        "colab": {
          "base_uri": "https://localhost:8080/"
        },
        "id": "fAWSAHt6opDI",
        "outputId": "6597f5c4-fcab-4381-9268-17f4e4f9069e"
      },
      "outputs": [
        {
          "name": "stdout",
          "output_type": "stream",
          "text": [
            "abcd\n"
          ]
        }
      ],
      "source": [
        "#37)Write a Python program to convert a list of characters into a string.\n",
        "my_list = ['a','b','c','d']\n",
        "my_string = ''.join(my_list)\n",
        "print(my_string)"
      ]
    },
    {
      "cell_type": "code",
      "execution_count": null,
      "metadata": {
        "colab": {
          "base_uri": "https://localhost:8080/"
        },
        "id": "WJKJp5aipPso",
        "outputId": "6886e695-5908-41d7-a5e0-637f8acf845f"
      },
      "outputs": [
        {
          "name": "stdout",
          "output_type": "stream",
          "text": [
            "5\n"
          ]
        }
      ],
      "source": [
        "#38)Write a Python program to select an item randomly from a list.\n",
        "import random\n",
        "my_list = [1,2,3,4,5]\n",
        "random_item = random.choice(my_list)\n",
        "print(random_item)\n"
      ]
    },
    {
      "cell_type": "code",
      "execution_count": 7,
      "metadata": {
        "colab": {
          "base_uri": "https://localhost:8080/"
        },
        "id": "hC1dckYmpi7o",
        "outputId": "80952f1b-1165-48b6-fbe3-871b3ef51b94"
      },
      "outputs": [
        {
          "output_type": "stream",
          "name": "stdout",
          "text": [
            "[2, 4, 6, 6, 7, 9]\n",
            "4\n"
          ]
        }
      ],
      "source": [
        "#39)Write a Python program to find the second smallest number in a list\n",
        "my_list= [2,4,6,7,9,6]\n",
        "print(sorted(my_list))\n",
        "my_list = sorted(my_list)\n",
        "print((my_list[1]))"
      ]
    },
    {
      "cell_type": "code",
      "execution_count": null,
      "metadata": {
        "colab": {
          "base_uri": "https://localhost:8080/"
        },
        "id": "GWkuE5Bup6Ww",
        "outputId": "751ef607-0962-48cd-ac82-4d496e285f6b"
      },
      "outputs": [
        {
          "name": "stdout",
          "output_type": "stream",
          "text": [
            "{2, 3, 4, 5, 6, 7, 8, 9}\n"
          ]
        }
      ],
      "source": [
        "#40)Write a Python program to get unique values from a list\n",
        "my_list = [2,7,8,9,3,2,4,3,4,5,6,4,7]\n",
        "print(set(my_list))"
      ]
    },
    {
      "cell_type": "code",
      "execution_count": null,
      "metadata": {
        "colab": {
          "base_uri": "https://localhost:8080/"
        },
        "id": "rVhaojV6r9ax",
        "outputId": "b2c7fc36-b3ee-4f52-c36a-f91bb131372e"
      },
      "outputs": [
        {
          "name": "stdout",
          "output_type": "stream",
          "text": [
            "True\n",
            "False\n"
          ]
        }
      ],
      "source": [
        "#41)Write a Python program to check whether a list contains a sub list\n",
        "def check_sublist(list1, list2):\n",
        "    if all(item in list1 for item in list2):\n",
        "        return True\n",
        "    else:\n",
        "        return False\n",
        "main_list = [1, 2, 3, 4, 5, 6]\n",
        "list1 = [3, 4, 5]\n",
        "list2 = [7, 8]\n",
        "print(check_sublist(main_list, list1))\n",
        "print(check_sublist(main_list, list2))"
      ]
    },
    {
      "cell_type": "code",
      "execution_count": null,
      "metadata": {
        "id": "K2VbDZt-tT--"
      },
      "outputs": [],
      "source": [
        "#42)Write a Python program to split a list into different variables.\n",
        "my_list = [1,2,3,4,5,6]\n",
        "a,b,c,d,e,f = my_list"
      ]
    },
    {
      "cell_type": "code",
      "execution_count": null,
      "metadata": {
        "colab": {
          "base_uri": "https://localhost:8080/"
        },
        "id": "_Jo42xTBuJ9s",
        "outputId": "03504176-afb3-4aa0-cf46-035fb9549715"
      },
      "outputs": [
        {
          "name": "stdout",
          "output_type": "stream",
          "text": [
            "1\n"
          ]
        }
      ],
      "source": [
        "print(a)"
      ]
    },
    {
      "cell_type": "markdown",
      "metadata": {
        "id": "7OE2RUk4ugua"
      },
      "source": [
        "43) What is tuple? Difference between list and tuple.\n",
        "ans:\n",
        "\n",
        "In Python, a tuple is a collection of objects that are ordered and immutable. Tuples are denoted by parentheses () and are similar to lists, but with some key differences.\n",
        "\n",
        "![Screenshot 2024-07-23 000800.png](data:image/png;base64,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)"
      ]
    },
    {
      "cell_type": "code",
      "execution_count": null,
      "metadata": {
        "colab": {
          "base_uri": "https://localhost:8080/"
        },
        "id": "ZJi9MLkAvNhy",
        "outputId": "12af26a5-128c-4ef5-c613-872f6f1905ce"
      },
      "outputs": [
        {
          "name": "stdout",
          "output_type": "stream",
          "text": [
            "('apple', 1, 0.3)\n"
          ]
        }
      ],
      "source": [
        "#44)Write a Python program to create a tuple with different data types.\n",
        "tuple = (\"apple\", 1, 0.3)\n",
        "print(tuple)"
      ]
    },
    {
      "cell_type": "code",
      "execution_count": null,
      "metadata": {
        "colab": {
          "base_uri": "https://localhost:8080/"
        },
        "id": "qTKUjqwBvfS2",
        "outputId": "d6b7b8d5-6e52-4a07-9e32-e01da1db3fca"
      },
      "outputs": [
        {
          "name": "stdout",
          "output_type": "stream",
          "text": [
            "[(1, 3, 5), (2, 4, 6)]\n"
          ]
        }
      ],
      "source": [
        "#45)Write a Python program to unzip a list of tuples into individual lists.\n",
        "l = [(1, 2), (3, 4), (5, 6)]\n",
        "print(list(zip(*l)))"
      ]
    },
    {
      "cell_type": "code",
      "execution_count": null,
      "metadata": {
        "colab": {
          "base_uri": "https://localhost:8080/"
        },
        "id": "ai8stfZ6vyu3",
        "outputId": "321d51a7-8ec8-41d1-9a43-701075d6089d"
      },
      "outputs": [
        {
          "name": "stdout",
          "output_type": "stream",
          "text": [
            "{'apple': 1, 'banana': 2, 'cherry': 3}\n"
          ]
        }
      ],
      "source": [
        "#46)Write a Python program to convert a list of tuples into a dictionary.\n",
        "list_of_tuples = [(\"apple\", 1), (\"banana\", 2), (\"cherry\", 3)]\n",
        "dictionary = dict(list_of_tuples)\n",
        "print(dictionary)\n",
        "\n"
      ]
    },
    {
      "cell_type": "code",
      "execution_count": null,
      "metadata": {
        "colab": {
          "base_uri": "https://localhost:8080/"
        },
        "id": "V33vEUmK1I33",
        "outputId": "cd7c309c-fb0d-4bd0-ce5d-753310f52dd3"
      },
      "outputs": [
        {
          "name": "stdout",
          "output_type": "stream",
          "text": [
            "{'apple': 1, 'banana': 2, 'cherry': 3}\n"
          ]
        }
      ],
      "source": [
        "#47)How will you create a dictionary using tuples in python?\n",
        "list_of_tuples = [(\"apple\", 1), (\"banana\", 2), (\"cherry\", 3)]\n",
        "dictionary = dict(list_of_tuples)\n",
        "print(dictionary)\n"
      ]
    },
    {
      "cell_type": "code",
      "execution_count": null,
      "metadata": {
        "colab": {
          "base_uri": "https://localhost:8080/"
        },
        "id": "nrPYuFmk1cz2",
        "outputId": "eb96af62-2b2f-4d3d-a60a-7b0eb54b6c09"
      },
      "outputs": [
        {
          "name": "stdout",
          "output_type": "stream",
          "text": [
            "[('chiku', 2), ('apple', 3), ('banana', 4)]\n",
            "[('banana', 4), ('apple', 3), ('chiku', 2)]\n"
          ]
        }
      ],
      "source": [
        "#48)Write a Python script to sort (ascending and descending) a dictionary by value.\n",
        "my_dict = {'apple':3,'banana':4,'chiku':2}\n",
        "print(sorted(my_dict.items(), key=lambda x: x[1]))\n",
        "print(sorted(my_dict.items(), key=lambda x: x[1], reverse=True))\n"
      ]
    },
    {
      "cell_type": "code",
      "execution_count": null,
      "metadata": {
        "colab": {
          "base_uri": "https://localhost:8080/"
        },
        "id": "NYMWLjTg2GPe",
        "outputId": "1873cf35-a6ba-42c9-dbc0-ad9085fdeff6"
      },
      "outputs": [
        {
          "name": "stdout",
          "output_type": "stream",
          "text": [
            "{'apple': 3, 'banana': 4, 'chiku': 2, 'man': 6, 'women': 1}\n"
          ]
        }
      ],
      "source": [
        "#49)Write a Python script to concatenate following dictionaries to create a new one.\n",
        "my_dict = {'apple':3,'banana':4,'chiku':2}\n",
        "my_dict1 = {'man':6,'women':1}\n",
        "my_dict.update(my_dict1)\n",
        "print(my_dict)"
      ]
    },
    {
      "cell_type": "code",
      "execution_count": null,
      "metadata": {
        "colab": {
          "base_uri": "https://localhost:8080/"
        },
        "id": "9K0WKHyz2_Iy",
        "outputId": "c96b8165-4673-412d-a363-0157f6f480dc"
      },
      "outputs": [
        {
          "name": "stdout",
          "output_type": "stream",
          "text": [
            "exist\n"
          ]
        }
      ],
      "source": [
        "#50)Write a Python script to check if a given key already exists in a dictionary.\n",
        "my_dict = {'apple':3,'banana':4,'chiku':2}\n",
        "check = 'apple'\n",
        "if check in my_dict:\n",
        "  print(\"exist\")\n",
        "else:\n",
        "  print(\"not exist\")"
      ]
    },
    {
      "cell_type": "code",
      "execution_count": null,
      "metadata": {
        "colab": {
          "base_uri": "https://localhost:8080/"
        },
        "id": "SYkDnCJe310D",
        "outputId": "6f19c462-d758-44e1-d518-f32a42388a80"
      },
      "outputs": [
        {
          "name": "stdout",
          "output_type": "stream",
          "text": [
            "apple 3\n",
            "banana 4\n",
            "chiku 2\n"
          ]
        }
      ],
      "source": [
        "#51)How Do You Traverse Through a Dictionary Object in Python?\n",
        "my_dict = {'apple':3,'banana':4,'chiku':2}\n",
        "for key,value in my_dict.items():\n",
        "  print(key,value)"
      ]
    },
    {
      "cell_type": "code",
      "execution_count": null,
      "metadata": {
        "id": "11uBSRjJ3_xv"
      },
      "outputs": [],
      "source": [
        "#52)How Do You Check the Presence of a Key in A Dictionary?\n",
        "my_dict = {'apple':3,'banana':4,'chiku':2}\n",
        "check = 'apple'\n",
        "if check in my_dict:\n",
        "  print(\"exist\")\n",
        "else:\n",
        "  print(\"not exist\")"
      ]
    },
    {
      "cell_type": "code",
      "execution_count": null,
      "metadata": {
        "colab": {
          "base_uri": "https://localhost:8080/"
        },
        "id": "j410Tr064Jtr",
        "outputId": "8e0f8130-6ecb-456e-cb47-f1dbce703647"
      },
      "outputs": [
        {
          "name": "stdout",
          "output_type": "stream",
          "text": [
            "{1: 1, 2: 4, 3: 9, 4: 16, 5: 25, 6: 36, 7: 49, 8: 64, 9: 81, 10: 100, 11: 121, 12: 144, 13: 169, 14: 196, 15: 225}\n"
          ]
        }
      ],
      "source": [
        "#53)Write a Python script to print a dictionary where the keys are numbers between 1 and 15.\n",
        "my_dict = {}\n",
        "for i in range(1, 16):\n",
        "    my_dict[i] = i**2\n",
        "print(my_dict)"
      ]
    },
    {
      "cell_type": "code",
      "execution_count": null,
      "metadata": {
        "colab": {
          "base_uri": "https://localhost:8080/"
        },
        "id": "cs1hfD0H4d12",
        "outputId": "cebe852c-c0b2-4747-b45d-2d35069936d0"
      },
      "outputs": [
        {
          "output_type": "stream",
          "name": "stdout",
          "text": [
            "Not all keys exist in the dictionary\n"
          ]
        }
      ],
      "source": [
        "#54)Write a Python program to check multiple keys exists in a dictionary\n",
        "\n",
        "def check(my_dict, keys):\n",
        "  return all(key in my_dict for key in keys)\n",
        "\n",
        "# Example usage:\n",
        "my_dict = {'apple':3,'banana':4,'chiku':2}\n",
        "keys_to_check = ['apple', 'bkc']\n",
        "\n",
        "if check(my_dict, keys_to_check):\n",
        "  print(\"All keys exist in the dictionary\")\n",
        "else:\n",
        "  print(\"Not all keys exist in the dictionary\")"
      ]
    },
    {
      "cell_type": "code",
      "source": [
        "#55)Write a Python script to merge two Python dictionaries\n",
        "my_dict = {'apple':3,'banana':4,'chiku':2}\n",
        "my_dict1 = {'man':6,'women':1}\n",
        "my_dict.update(my_dict1)\n",
        "print(my_dict)\n"
      ],
      "metadata": {
        "colab": {
          "base_uri": "https://localhost:8080/"
        },
        "id": "2j_9fQm33sYQ",
        "outputId": "1dffbde2-cfd6-4121-e27e-cd0bec2f69da"
      },
      "execution_count": null,
      "outputs": [
        {
          "output_type": "stream",
          "name": "stdout",
          "text": [
            "{'apple': 3, 'banana': 4, 'chiku': 2, 'man': 6, 'women': 1}\n"
          ]
        }
      ]
    },
    {
      "cell_type": "code",
      "source": [
        "#56)Write a Python program to map two lists into a dictionary\n",
        "#Sample output: Counter ({'a': 400, 'b': 400,’d’: 400, 'c': 300}).\n",
        "keys = ['a', 'b', 'c', 'd']\n",
        "values = [400, 400, 300, 400]\n",
        "my_dict = dict(zip(keys, values))\n",
        "print(my_dict)\n"
      ],
      "metadata": {
        "colab": {
          "base_uri": "https://localhost:8080/"
        },
        "id": "v_NgpwIF5SgE",
        "outputId": "7e0dbde5-7093-4d77-bf4a-e410237bdd8a"
      },
      "execution_count": null,
      "outputs": [
        {
          "output_type": "stream",
          "name": "stdout",
          "text": [
            "{'a': 400, 'b': 400, 'c': 300, 'd': 400}\n"
          ]
        }
      ]
    },
    {
      "cell_type": "code",
      "source": [
        "#57)Write a Python program to find the highest 3 values in a dictionary\n",
        "my_dict = {'apple': 3, 'banana': 4, 'chiku': 2, 'man': 6, 'women': 1}\n",
        "my_dict = sorted(my_dict)\n",
        "print(my_dict[:4])"
      ],
      "metadata": {
        "colab": {
          "base_uri": "https://localhost:8080/"
        },
        "id": "q90_EPkx6IPq",
        "outputId": "8f9b203e-cad6-431f-ac5f-8f66642beb24"
      },
      "execution_count": null,
      "outputs": [
        {
          "output_type": "stream",
          "name": "stdout",
          "text": [
            "['apple', 'banana', 'chiku', 'man']\n"
          ]
        }
      ]
    },
    {
      "cell_type": "code",
      "source": [
        "#58)Write a Python program to combine values in python list of dictionaries.\n",
        "\n",
        "from collections import defaultdict\n",
        "data = [{'item': 'item1', 'amount': 400},\n",
        "        {'item': 'item2', 'amount': 300},\n",
        "        {'item': 'item1', 'amount': 750}]\n",
        "\n",
        "combined = defaultdict(int)\n",
        "for entry in data:\n",
        "    combined[entry['item']] += entry['amount']\n",
        "\n",
        "result = [{'item': key, 'amount': value} for key, value in combined.items()]\n",
        "print(result)\n",
        "\n"
      ],
      "metadata": {
        "colab": {
          "base_uri": "https://localhost:8080/"
        },
        "id": "7xCYFEQ44FZN",
        "outputId": "dfe35ebd-213f-4444-dfb2-c55b02561013"
      },
      "execution_count": 2,
      "outputs": [
        {
          "output_type": "stream",
          "name": "stdout",
          "text": [
            "[{'item': 'item1', 'amount': 1150}, {'item': 'item2', 'amount': 300}]\n"
          ]
        }
      ]
    },
    {
      "cell_type": "code",
      "source": [
        "#59)Write a Python program to create a dictionary from a string.\n",
        "#Note: Track the count of the letters from the string.\n",
        "\n",
        "s = 'sarvam_gami'\n",
        "\n",
        "char_count = {}\n",
        "\n",
        "for ch in s:\n",
        "    char_count[ch] = char_count.get(ch, 0) + 1\n",
        "print(char_count)\n",
        "\n"
      ],
      "metadata": {
        "colab": {
          "base_uri": "https://localhost:8080/"
        },
        "id": "JDVS3A0z55IV",
        "outputId": "ac62ebf7-53ac-4433-90e8-3e774529ff3d"
      },
      "execution_count": 3,
      "outputs": [
        {
          "output_type": "stream",
          "name": "stdout",
          "text": [
            "{'s': 1, 'a': 3, 'r': 1, 'v': 1, 'm': 2, '_': 1, 'g': 1, 'i': 1}\n"
          ]
        }
      ]
    },
    {
      "cell_type": "code",
      "source": [
        "#60 is a sample data\n",
        "#61)Write a Python function to calculate the factorial of a number (a nonnegative integer)\n",
        "def tp(n):\n",
        "    if not isinstance(n, int) or n < 0:\n",
        "        raise ValueError(\"Input must be a non-negative integer\")\n",
        "    return 1 if n <= 1 else n * tp(n - 1)\n",
        "\n",
        "print(tp(5))\n"
      ],
      "metadata": {
        "colab": {
          "base_uri": "https://localhost:8080/"
        },
        "id": "6Zug7Xql64Aa",
        "outputId": "54c00222-570c-4e52-8875-0780a3a911b0"
      },
      "execution_count": 4,
      "outputs": [
        {
          "output_type": "stream",
          "name": "stdout",
          "text": [
            "120\n"
          ]
        }
      ]
    },
    {
      "cell_type": "code",
      "source": [
        "#62)Write a Python function to check whether a number is in a given range\n",
        "def sa(n):\n",
        "    return 3 <= n <= 8\n",
        "\n",
        "# Example:\n",
        "print(sa(5))\n",
        "print(sa(10))\n"
      ],
      "metadata": {
        "colab": {
          "base_uri": "https://localhost:8080/"
        },
        "id": "dJha9i017kSW",
        "outputId": "ae9abc3e-c284-4dc4-b600-02469e4c20e6"
      },
      "execution_count": 5,
      "outputs": [
        {
          "output_type": "stream",
          "name": "stdout",
          "text": [
            "True\n",
            "False\n"
          ]
        }
      ]
    },
    {
      "cell_type": "code",
      "source": [
        "#63)Write a Python function to check whether a number is perfect or not.\n",
        "def gg(n):\n",
        "    if not isinstance(n, int) or n <= 0:\n",
        "        return False\n",
        "\n",
        "    total = sum(i for i in range(1, n) if n % i == 0)\n",
        "    return total == n\n",
        "\n",
        "for num in [6, 28, 496, 12]:\n",
        "    print(f\"{num} is perfect? {gg(num)}\")\n"
      ],
      "metadata": {
        "colab": {
          "base_uri": "https://localhost:8080/"
        },
        "id": "N9fKw4e174s6",
        "outputId": "c1537327-91d9-406d-fb1f-d52474a0da56"
      },
      "execution_count": 6,
      "outputs": [
        {
          "output_type": "stream",
          "name": "stdout",
          "text": [
            "6 is perfect? True\n",
            "28 is perfect? True\n",
            "496 is perfect? True\n",
            "12 is perfect? False\n"
          ]
        }
      ]
    },
    {
      "cell_type": "code",
      "source": [
        "#64)Write a Python function that checks whether a passed string is\n",
        "palindrome or not\n",
        "def is_palindrome(s):\n",
        "    s_clean = ''.join(ch.lower() for ch in s if ch.isalnum())\n",
        "    return s_clean == s_clean[::-1]\n",
        "\n",
        "# Examples:\n",
        "print(is_palindrome(\"RaceCar\"))                # True\n",
        "print(is_palindrome(\"A man, a plan, a canal, Panama\"))  # True\n"
      ],
      "metadata": {
        "id": "u-smdXj88WPm"
      },
      "execution_count": null,
      "outputs": []
    },
    {
      "cell_type": "code",
      "source": [
        "#65)How Many Basic Types of Functions Are Available in Python?\n",
        "#1)Built-in functions (e.g., len(), print())\n",
        "#2)User-defined functions\n",
        "#3)Lambda (anonymous) functions"
      ],
      "metadata": {
        "id": "WhEesA-78oYW"
      },
      "execution_count": null,
      "outputs": []
    },
    {
      "cell_type": "code",
      "source": [
        "#66)How can you pick a random item from a list or tuple?\n",
        "#import random\n",
        "#item = random.choice(my_list)\n"
      ],
      "metadata": {
        "id": "nJtAy1ig85Kw"
      },
      "execution_count": 8,
      "outputs": []
    },
    {
      "cell_type": "code",
      "source": [
        "#67)How can you pick a random item from a range?\n",
        "#import random\n",
        "#num = random.choice(range(10, 20))\n"
      ],
      "metadata": {
        "id": "QB_40ns18-p2"
      },
      "execution_count": null,
      "outputs": []
    },
    {
      "cell_type": "code",
      "source": [
        "#68)How can you get a random number in python?\n",
        "#Integer in [a, b]: random.randint(a, b)\n",
        "#Float between 0 and 1: random.random()\n",
        "#Float between a and b: random.uniform(a, b)"
      ],
      "metadata": {
        "id": "AiFEVjAb9eFd"
      },
      "execution_count": 10,
      "outputs": []
    },
    {
      "cell_type": "code",
      "source": [
        "#69)How will you set the starting value in generating random numbers?\n",
        "#import random\n",
        "#random.seed(42)"
      ],
      "metadata": {
        "id": "SLTlQECG9uuI"
      },
      "execution_count": null,
      "outputs": []
    },
    {
      "cell_type": "code",
      "source": [
        "#70)How will you randomize the items of a list in place?\n",
        "#import random\n",
        "#random.shuffle(my_list)"
      ],
      "metadata": {
        "id": "7l3aIvn794CX"
      },
      "execution_count": null,
      "outputs": []
    },
    {
      "cell_type": "code",
      "source": [
        "#71)What is File function in python? What are keywords to create and write file.\n",
        "#open() function creates/opens file objects.\n",
        "#Modes include:\n",
        "#\"r\": read (default)\n",
        "#\"w\": write (truncate/create)\n",
        "#\"a\": append/create\n",
        "#pynative.com\n",
        "#geeksforgeeks.org\n",
        "#+7\n",
        "#w3schools.com\n",
        "#+7\n",
        "#reddit.com\n",
        "#+7\n",
        "#Use 'x' for create-only (fails if exists)."
      ],
      "metadata": {
        "id": "07lVngB29_rP"
      },
      "execution_count": null,
      "outputs": []
    },
    {
      "cell_type": "code",
      "source": [
        "#72)Write a Python program to read an entire text file.\n",
        "with open(\"/myfile.txt\", \"r\") as f:\n",
        "    content = f.read()\n",
        "print(content)\n"
      ],
      "metadata": {
        "colab": {
          "base_uri": "https://localhost:8080/"
        },
        "id": "RV5qgvU9-WRZ",
        "outputId": "db8c526b-7eb4-4764-d55a-a8b23107180e"
      },
      "execution_count": 18,
      "outputs": [
        {
          "output_type": "stream",
          "name": "stdout",
          "text": [
            "Sarvam gami\n",
            "\n"
          ]
        }
      ]
    },
    {
      "cell_type": "code",
      "source": [
        "#73)Write a Python program to append text to a file and display the text.\n",
        "with open(\"/myfile.txt\", \"a\") as f:\n",
        "    f.write(\"says\\n\")\n",
        "with open(\"/myfile.txt\") as f:\n",
        "    print(f.read())\n"
      ],
      "metadata": {
        "colab": {
          "base_uri": "https://localhost:8080/"
        },
        "id": "ulL08xg9_w97",
        "outputId": "a4164c00-a1e7-4c17-be98-00ccb66ad387"
      },
      "execution_count": 20,
      "outputs": [
        {
          "output_type": "stream",
          "name": "stdout",
          "text": [
            "Sarvam gami\n",
            "New line\n",
            "says\n",
            "\n"
          ]
        }
      ]
    },
    {
      "cell_type": "code",
      "source": [
        "#74)Write a Python program to read first n lines of a file.\n",
        "def ff(filename, n):\n",
        "    with open(filename) as f:\n",
        "        return [next(f).rstrip(\"\\n\") for _ in range(n)]\n"
      ],
      "metadata": {
        "id": "wOxieiyWAzfy"
      },
      "execution_count": 23,
      "outputs": []
    },
    {
      "cell_type": "code",
      "source": [
        "#75)Write a Python program to read last n lines of a file.\n",
        "from collections import deque\n",
        "def f1(filename, n):\n",
        "    with open(filename) as f:\n",
        "        return list(deque(f, maxlen=n))\n"
      ],
      "metadata": {
        "id": "fj8nnAdpA6ZZ"
      },
      "execution_count": 22,
      "outputs": []
    },
    {
      "cell_type": "code",
      "source": [
        "#76)Write a Python program to read a file line by line and store it into a list\n",
        "with open(\"/myfile.txt\") as f:\n",
        "    lines = [line.rstrip(\"\\n\") for line in f]\n"
      ],
      "metadata": {
        "id": "tP_5_sUlBGvZ"
      },
      "execution_count": 25,
      "outputs": []
    },
    {
      "cell_type": "code",
      "source": [
        "#77)Write a Python program to read a file line by line store it into a variable.\n",
        "content = \"\"\n",
        "with open(\"/myfile.txt\") as f:\n",
        "    for line in f:\n",
        "        content += line\n"
      ],
      "metadata": {
        "id": "dyO987b_BQgO"
      },
      "execution_count": 26,
      "outputs": []
    },
    {
      "cell_type": "code",
      "source": [
        "#78)Write a python program to find the longest words.\n",
        "def longest_word(filename):\n",
        "    with open(filename) as f:\n",
        "        words = f.read().split()\n",
        "    return max(words, key=len)\n"
      ],
      "metadata": {
        "id": "jCW3Mf_pBXCn"
      },
      "execution_count": 27,
      "outputs": []
    },
    {
      "cell_type": "code",
      "source": [
        "#79)Write a Python program to count the number of lines in a text file.\n",
        "with open(\"/myfile.txt\") as f:\n",
        "    count = sum(1 for _ in f)\n",
        "print(count)\n"
      ],
      "metadata": {
        "colab": {
          "base_uri": "https://localhost:8080/"
        },
        "id": "VOKvSAmHBer6",
        "outputId": "11964404-9224-4541-bffd-83852b31d091"
      },
      "execution_count": 29,
      "outputs": [
        {
          "output_type": "stream",
          "name": "stdout",
          "text": [
            "3\n"
          ]
        }
      ]
    },
    {
      "cell_type": "code",
      "source": [
        "#80)Write a Python program to count the frequency of words in a file.\n",
        "from collections import Counter\n",
        "with open(\"/myfile.txt\") as f:\n",
        "    words = f.read().split()\n",
        "freq = Counter(words)\n",
        "print(freq)\n"
      ],
      "metadata": {
        "colab": {
          "base_uri": "https://localhost:8080/"
        },
        "id": "vPBcRzGGBmoD",
        "outputId": "98a13193-5f45-4727-e2af-dffa116597f2"
      },
      "execution_count": 30,
      "outputs": [
        {
          "output_type": "stream",
          "name": "stdout",
          "text": [
            "Counter({'Sarvam': 1, 'gami': 1, 'New': 1, 'line': 1, 'says': 1})\n"
          ]
        }
      ]
    },
    {
      "cell_type": "code",
      "source": [
        "#81)Write a Python program to write a list to a file.\n",
        "my_list = [\"alpha\", \"beta\", \"gamma\"]\n",
        "with open(\"/myfile.txt\", \"w\") as f:\n",
        "    f.write(\"\\n\".join(my_list))\n"
      ],
      "metadata": {
        "id": "MphXHNxXBuXE"
      },
      "execution_count": 32,
      "outputs": []
    },
    {
      "cell_type": "code",
      "source": [
        "#82)Write a Python program to copy the contents of a file to another file.\n",
        "with open(\"/myfile.txt\", \"r\") as src, open(\"dest.txt\", \"w\") as dst:\n",
        "    for line in src:\n",
        "        dst.write(line)\n"
      ],
      "metadata": {
        "id": "N9tYEOLkB464"
      },
      "execution_count": 33,
      "outputs": []
    },
    {
      "cell_type": "code",
      "source": [
        "#83)Explain Exception handling? What is an Error in Python?\n",
        "#Errors: issues during code execution (e.g., ZeroDivisionError, FileNotFoundError)\n",
        "#Exception handling via try/except:\n",
        "#python\n",
        "#Copy\n",
        "#Edit\n"
      ],
      "metadata": {
        "id": "qbqgGF7WCID9"
      },
      "execution_count": null,
      "outputs": []
    },
    {
      "cell_type": "code",
      "source": [
        "#84)How many except statements can a try-except block have? Name Some built-in exception classes:\n",
        "#Multiple except clauses allowed.\n",
        "#Examples: ValueError, TypeError, IOError, IndexError, KeyError, ZeroDivisionError\n",
        "\n"
      ],
      "metadata": {
        "id": "tmCrR_R6CTaF"
      },
      "execution_count": null,
      "outputs": []
    },
    {
      "cell_type": "code",
      "source": [
        "#85)When will the else part of try-except-else be executed?\n",
        "#When no exception was raised in the try block."
      ],
      "metadata": {
        "id": "rJy-2t12Ccu9"
      },
      "execution_count": null,
      "outputs": []
    },
    {
      "cell_type": "code",
      "source": [
        "#86)Can one block of except statements handle multiple exception?\n",
        "try:\n",
        "    ...\n",
        "except (ValueError, TypeError) as e:\n",
        "    ...\n"
      ],
      "metadata": {
        "id": "wyYWjO8gCls9"
      },
      "execution_count": null,
      "outputs": []
    },
    {
      "cell_type": "code",
      "source": [
        "#87)When is the finally block executed?\n",
        "#Always executed—whether an exception occurred or not, even with return or exit().\n",
        "\n"
      ],
      "metadata": {
        "id": "OzUpejfNCq35"
      },
      "execution_count": null,
      "outputs": []
    },
    {
      "cell_type": "code",
      "source": [
        "#88)What happens when „1‟== 1 is executed?\n",
        "#False, because string and integer types differ."
      ],
      "metadata": {
        "id": "EejjeDx1CwXK"
      },
      "execution_count": null,
      "outputs": []
    },
    {
      "cell_type": "code",
      "source": [
        "#89)How Do You Handle Exceptions with Try/Except/Finally in Python?\n",
        "try:\n",
        "    value = int(input(\"Enter integer: \"))\n",
        "except ValueError:\n",
        "    print(\"That's not an integer!\")\n",
        "else:\n",
        "    print(\"You entered\", value)\n",
        "finally:\n",
        "    print(\"Execution complete.\")\n"
      ],
      "metadata": {
        "colab": {
          "base_uri": "https://localhost:8080/"
        },
        "id": "QQ-JJYPaC3Pc",
        "outputId": "6fc74def-0f68-4921-f773-c4c611b8aa3f"
      },
      "execution_count": 34,
      "outputs": [
        {
          "output_type": "stream",
          "name": "stdout",
          "text": [
            "Enter integer: 2\n",
            "You entered 2\n",
            "Execution complete.\n"
          ]
        }
      ]
    },
    {
      "cell_type": "code",
      "source": [
        "#90)Write python program that user to enter only odd numbers, else will raise an exception.\n",
        "class NotOddError(Exception):\n",
        "    pass\n",
        "\n",
        "def get_odd(prompt=\"Enter an odd number: \"):\n",
        "    n = int(input(prompt))\n",
        "    if n % 2 == 0:\n",
        "        raise NotOddError(f\"{n} is not odd!\")\n",
        "    return n\n",
        "\n",
        "try:\n",
        "    odd = get_odd()\n",
        "    print(\"Thanks, you entered odd number:\", odd)\n",
        "except NotOddError as e:\n",
        "    print(\"Error:\", e)\n",
        "\n"
      ],
      "metadata": {
        "colab": {
          "base_uri": "https://localhost:8080/"
        },
        "id": "Ff7oUQJHC82z",
        "outputId": "57348eaf-69b9-482a-fd04-5269efb529e0"
      },
      "execution_count": 35,
      "outputs": [
        {
          "output_type": "stream",
          "name": "stdout",
          "text": [
            "Enter an odd number: 3\n",
            "Thanks, you entered odd number: 3\n"
          ]
        }
      ]
    }
  ],
  "metadata": {
    "colab": {
      "provenance": []
    },
    "kernelspec": {
      "display_name": "Python 3",
      "name": "python3"
    },
    "language_info": {
      "name": "python"
    }
  },
  "nbformat": 4,
  "nbformat_minor": 0
}